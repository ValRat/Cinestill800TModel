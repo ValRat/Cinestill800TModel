{
 "cells": [
  {
   "cell_type": "code",
   "execution_count": 41,
   "id": "52f39ec6-73b1-408a-9632-2086a87662fd",
   "metadata": {},
   "outputs": [],
   "source": [
    "# Here we want to analyse the metadata about the training data we obtained\n",
    "import os\n",
    "from PIL import Image\n",
    "import pandas as pd\n",
    "import seaborn as sns\n",
    "\n",
    "raws_directory = os.path.join(os.getcwd(), \"../data/raw\")\n",
    "raw_images = []\n",
    "\n",
    "with os.scandir(raws_directory) as items:\n",
    "    for item in items:\n",
    "        if item.is_dir(): continue\n",
    "        try:\n",
    "            tmp_img = Image.open(item.path)\n",
    "            raw_images.append(item)\n",
    "        except IOError:\n",
    "            print(f\"{item.name} is not a valid image file\")\n",
    "               "
   ]
  },
  {
   "cell_type": "code",
   "execution_count": 60,
   "id": "366aa550-c5d1-4dc8-b12f-e4b885c179f6",
   "metadata": {},
   "outputs": [
    {
     "name": "stdout",
     "output_type": "stream",
     "text": [
      "Image size statistics in bytes\n",
      "(0        (387600.0, 464277.0]\n",
      "1       (945565.7, 2453960.0]\n",
      "2        (600079.0, 709132.8]\n",
      "3        (464277.0, 528707.6]\n",
      "4        (312371.8, 387600.0]\n",
      "                ...          \n",
      "2139     (241558.6, 312371.8]\n",
      "2140     (241558.6, 312371.8]\n",
      "2141    (945565.7, 2453960.0]\n",
      "2142     (312371.8, 387600.0]\n",
      "2143     (241558.6, 312371.8]\n",
      "Length: 2144, dtype: category\n",
      "Categories (10, interval[float64, right]): [(30645.999, 152111.0] < (152111.0, 241558.6] < (241558.6, 312371.8] < (312371.8, 387600.0] ... (528707.6, 600079.0] < (600079.0, 709132.8] < (709132.8, 945565.7] < (945565.7, 2453960.0]], array([  30646. ,  152111. ,  241558.6,  312371.8,  387600. ,  464277. ,\n",
      "        528707.6,  600079. ,  709132.8,  945565.7, 2453960. ]))\n"
     ]
    },
    {
     "ename": "AttributeError",
     "evalue": "'tuple' object has no attribute 'value_counts'",
     "output_type": "error",
     "traceback": [
      "\u001b[1;31m---------------------------------------------------------------------------\u001b[0m",
      "\u001b[1;31mAttributeError\u001b[0m                            Traceback (most recent call last)",
      "\u001b[1;32m<ipython-input-60-f2772b791d5f>\u001b[0m in \u001b[0;36m<module>\u001b[1;34m\u001b[0m\n\u001b[0;32m     18\u001b[0m \u001b[0mprint\u001b[0m\u001b[1;33m(\u001b[0m\u001b[0mimage_sizes_binned\u001b[0m\u001b[1;33m)\u001b[0m\u001b[1;33m\u001b[0m\u001b[1;33m\u001b[0m\u001b[0m\n\u001b[0;32m     19\u001b[0m \u001b[1;33m\u001b[0m\u001b[0m\n\u001b[1;32m---> 20\u001b[1;33m \u001b[0mimage_sizes_binned\u001b[0m\u001b[1;33m.\u001b[0m\u001b[0mvalue_counts\u001b[0m\u001b[1;33m(\u001b[0m\u001b[1;33m)\u001b[0m\u001b[1;33m.\u001b[0m\u001b[0mplot\u001b[0m\u001b[1;33m(\u001b[0m\u001b[0mkind\u001b[0m\u001b[1;33m=\u001b[0m\u001b[1;34m\"bar\"\u001b[0m\u001b[1;33m)\u001b[0m\u001b[1;33m\u001b[0m\u001b[1;33m\u001b[0m\u001b[0m\n\u001b[0m\u001b[0;32m     21\u001b[0m \u001b[0msns\u001b[0m\u001b[1;33m.\u001b[0m\u001b[0mhistplot\u001b[0m\u001b[1;33m(\u001b[0m\u001b[0mdata\u001b[0m\u001b[1;33m=\u001b[0m\u001b[0mimage_sizes_binned\u001b[0m\u001b[1;33m,\u001b[0m \u001b[0mbins\u001b[0m\u001b[1;33m=\u001b[0m\u001b[1;36m10\u001b[0m\u001b[1;33m,\u001b[0m \u001b[0mmultiple\u001b[0m\u001b[1;33m=\u001b[0m\u001b[1;34m\"stack\"\u001b[0m\u001b[1;33m)\u001b[0m\u001b[1;33m\u001b[0m\u001b[1;33m\u001b[0m\u001b[0m\n",
      "\u001b[1;31mAttributeError\u001b[0m: 'tuple' object has no attribute 'value_counts'"
     ]
    }
   ],
   "source": [
    "# Let's figure out the basic items first:\n",
    "# Image size, width, height\n",
    "image_sizes = []\n",
    "\n",
    "for image in raw_images:\n",
    "    img_size = image.stat().st_size\n",
    "    image_sizes.append(img_size)\n",
    "\n",
    "image_sizes_pd = pd.Series(image_sizes)\n",
    "\n",
    "# Formatting removes default scientific notation\n",
    "print(\"Image size statistics in bytes\")\n",
    "image_sizes_pd.describe().apply(lambda s: format(s, \"f\"))\n",
    "\n",
    "# Binning for a better idea of distribution\n",
    "# What are Pandas Category?\n",
    "# Continue work here\n",
    "image_sizes_binned = pd.qcut(image_sizes_pd, q = 10, retbins = True)\n",
    "print(image_sizes_binned)\n",
    "\n",
    "image_sizes_binned.value_counts().plot(kind=\"bar\")\n",
    "sns.histplot(data=image_sizes_binned, bins=10, multiple=\"stack\") \n"
   ]
  },
  {
   "cell_type": "code",
   "execution_count": null,
   "id": "44e66178-81cc-4de2-b6cf-91f5ca046e7f",
   "metadata": {},
   "outputs": [],
   "source": [
    "# Here we want to categorize the images into buckets with regards to their content"
   ]
  }
 ],
 "metadata": {
  "kernelspec": {
   "display_name": "Python 3 (ipykernel)",
   "language": "python",
   "name": "python3"
  },
  "language_info": {
   "codemirror_mode": {
    "name": "ipython",
    "version": 3
   },
   "file_extension": ".py",
   "mimetype": "text/x-python",
   "name": "python",
   "nbconvert_exporter": "python",
   "pygments_lexer": "ipython3",
   "version": "3.9.13"
  }
 },
 "nbformat": 4,
 "nbformat_minor": 5
}
