{
 "cells": [
  {
   "cell_type": "code",
   "execution_count": 41,
   "id": "52f39ec6-73b1-408a-9632-2086a87662fd",
   "metadata": {},
   "outputs": [],
   "source": [
    "# Here we want to analyse the metadata about the training data we obtained\n",
    "import os\n",
    "from PIL import Image\n",
    "import pandas as pd\n",
    "import seaborn as sns\n",
    "\n",
    "raws_directory = os.path.join(os.getcwd(), \"../data/raw\")\n",
    "raw_images = []\n",
    "\n",
    "with os.scandir(raws_directory) as items:\n",
    "    for item in items:\n",
    "        if item.is_dir(): continue\n",
    "        try:\n",
    "            tmp_img = Image.open(item.path)\n",
    "            raw_images.append(item)\n",
    "        except IOError:\n",
    "            print(f\"{item.name} is not a valid image file\")\n",
    "               "
   ]
  },
  {
   "cell_type": "code",
   "execution_count": 107,
   "id": "366aa550-c5d1-4dc8-b12f-e4b885c179f6",
   "metadata": {},
   "outputs": [
    {
     "name": "stdout",
     "output_type": "stream",
     "text": [
      "                                      ImageName  Size (Bytes)  Width  Height\n",
      "0  0007922c5bdf7b922d029b5acaccd502fe679e67.jpg        441729   2316    1536\n",
      "1  001444a0a529d43174ed7bd80936c692855f63a2.jpg       1022806   2432    3668\n",
      "2  001f419cb7003a0b9e5d73755db1992daea12bb6.jpg        650132   2432    1560\n",
      "3  003d2335704e4ebcc745751cac75cc95860124b9.jpg        494159   2432    1622\n",
      "4  0046f51c15cdeb6dec026a376a5afffb8e28f68a.jpg        370269   1975    1317\n",
      "5  009aeb3c6762f701597dffd3375c5906e1d1a155.jpg        599555   2432    1612\n",
      "6  00cf6a7859d19a67852d00e2decd49c0b876bffd.jpg        461272   1840    1232\n",
      "7  011331baebe88f0da4f94a7b1c9370f924840434.jpg         97509    995    1500\n",
      "8  0129417b94d89bf4c8d2543f3427775ee4fc46ff.jpg        242944   2048    1407\n",
      "9  01755e464a93f61d362741169a60ac05840356f1.jpg        431688   2000    1324\n"
     ]
    }
   ],
   "source": [
    "# Let's figure out the basic items first:\n",
    "# Image size, width, height\n",
    "\n",
    "# Image dataframe:\n",
    "# Filename | Size | Width | Height\n",
    "\n",
    "# Quick and Dirty way to setup dataframe with appropriate data\n",
    "image_df = pd.DataFrame(columns=[\"ImageName\", \"Size (Bytes)\", \"Width\", \"Height\"])\n",
    "\n",
    "image_filenames = []\n",
    "image_sizes = []\n",
    "image_widths = []\n",
    "image_heights = []\n",
    "\n",
    "for image in raw_images:\n",
    "    img_size = image.stat().st_size\n",
    "    image_filenames.append(image.name)\n",
    "    image_sizes.append(img_size)\n",
    "    try:\n",
    "        tmp_img = Image.open(image.path)\n",
    "        image_widths.append(tmp_img.width)\n",
    "        image_heights.append(tmp_img.height)\n",
    "    except:\n",
    "        image_widths = float(\"nan\")\n",
    "        image_heights = float(\"nan\")\n",
    "        \n",
    "\n",
    "image_df[\"ImageName\"] = pd.Series(image_filenames)\n",
    "image_df[\"Size (Bytes)\"] = pd.Series(image_sizes)\n",
    "image_df[\"Width\"] = pd.Series(image_widths)\n",
    "image_df[\"Height\"] = pd.Series(image_heights)\n",
    "\n",
    "print(image_df.head(10))"
   ]
  },
  {
   "cell_type": "code",
   "execution_count": 106,
   "id": "e121cc16-79e5-49b1-a1a7-65aa4ebbe5cf",
   "metadata": {},
   "outputs": [
    {
     "data": {
      "text/plain": [
       "<AxesSubplot:xlabel='Size (Bytes)', ylabel='Count'>"
      ]
     },
     "execution_count": 106,
     "metadata": {},
     "output_type": "execute_result"
    },
    {
     "data": {
      "image/png": "[encoded data removed]",
      "text/plain": [
       "<Figure size 432x288 with 1 Axes>"
      ]
     },
     "metadata": {
      "needs_background": "light"
     },
     "output_type": "display_data"
    }
   ],
   "source": [
    "# Using the above data, we create a histogram to visualize data statistics\n",
    "sns.histplot(data=image_df, x=\"Size (Bytes)\")"
   ]
  },
  {
   "cell_type": "code",
   "execution_count": 105,
   "id": "1f4cb651-2e8c-4671-99e4-71a0be54d734",
   "metadata": {},
   "outputs": [
    {
     "data": {
      "text/plain": [
       "<AxesSubplot:xlabel='Width', ylabel='Count'>"
      ]
     },
     "execution_count": 105,
     "metadata": {},
     "output_type": "execute_result"
    },
    {
     "data": {
      "image/png": "[encoded data removed]",
      "text/plain": [
       "<Figure size 432x288 with 1 Axes>"
      ]
     },
     "metadata": {
      "needs_background": "light"
     },
     "output_type": "display_data"
    }
   ],
   "source": [
    "sns.histplot(data=image_df, x=\"Width\")"
   ]
  },
  {
   "cell_type": "code",
   "execution_count": 103,
   "id": "3e4037b1-acf1-40fe-9e1d-ad07f4471669",
   "metadata": {},
   "outputs": [
    {
     "data": {
      "text/plain": [
       "<AxesSubplot:xlabel='Height', ylabel='Count'>"
      ]
     },
     "execution_count": 103,
     "metadata": {},
     "output_type": "execute_result"
    },
    {
     "data": {
      "image/png": "[encoded data removed]",
      "text/plain": [
       "<Figure size 432x288 with 1 Axes>"
      ]
     },
     "metadata": {
      "needs_background": "light"
     },
     "output_type": "display_data"
    }
   ],
   "source": [
    "sns.histplot(data=image_df, x=\"Height\")"
   ]
  },
  {
   "cell_type": "code",
   "execution_count": null,
   "id": "44e66178-81cc-4de2-b6cf-91f5ca046e7f",
   "metadata": {},
   "outputs": [],
   "source": [
    "# Here we want to categorize the images into buckets with regards to their content"
   ]
  }
 ],
 "metadata": {
  "kernelspec": {
   "display_name": "Python 3 (ipykernel)",
   "language": "python",
   "name": "python3"
  },
  "language_info": {
   "codemirror_mode": {
    "name": "ipython",
    "version": 3
   },
   "file_extension": ".py",
   "mimetype": "text/x-python",
   "name": "python",
   "nbconvert_exporter": "python",
   "pygments_lexer": "ipython3",
   "version": "3.9.13"
  }
 },
 "nbformat": 4,
 "nbformat_minor": 5
}
